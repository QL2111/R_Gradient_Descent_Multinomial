{
 "cells": [
  {
   "cell_type": "code",
   "execution_count": null,
   "metadata": {},
   "outputs": [],
   "source": [
    "# Comparaison between our R Model and sklearn's Logistic Regression"
   ]
  },
  {
   "cell_type": "code",
   "execution_count": 1,
   "metadata": {},
   "outputs": [],
   "source": [
    "from sklearn.linear_model import LogisticRegression\n",
    "from sklearn.metrics import accuracy_score, f1_score\n",
    "from sklearn.model_selection import train_test_split\n",
    "from sklearn.preprocessing import StandardScaler, OneHotEncoder\n",
    "import pandas as pd\n",
    "import numpy as np\n",
    "import matplotlib.pyplot as plt\n",
    "import seaborn as sns\n",
    "from sklearn.metrics import confusion_matrix\n",
    "from sklearn.metrics import classification_report\n"
   ]
  },
  {
   "cell_type": "markdown",
   "metadata": {},
   "source": [
    "### Binomial Comparaison"
   ]
  },
  {
   "cell_type": "code",
   "execution_count": 13,
   "metadata": {},
   "outputs": [],
   "source": [
    "df_credit_card = pd.read_csv('../data/credit_card.csv')\n",
    "# One hot encoding\n",
    "for col in df_credit_card.columns:\n",
    "    if df_credit_card[col].dtype == 'object':\n",
    "        df_credit_card = pd.concat([df_credit_card, pd.get_dummies(df_credit_card[col], prefix=col)], axis=1)\n",
    "        df_credit_card.drop(col, axis=1, inplace=True)\n",
    "# make a 70/30 train/test split\n",
    "target = \"Approved\"\n",
    "X = df_credit_card.drop(target, axis=1)\n",
    "y = df_credit_card[target]\n",
    "X_train, X_test, y_train, y_test = train_test_split(X, y, test_size=0.3, random_state=0)\n",
    "\n",
    "# Same Standardisation (One hot encoding + StandardScaler)\n",
    "\n",
    "scaler = StandardScaler()\n",
    "# Scale numerical features\n",
    "for col in X_train.columns:\n",
    "    if X_train[col].dtype != 'uint8':\n",
    "        X_train[col] = scaler.fit_transform(X_train[col].values.reshape(-1, 1))\n",
    "        X_test[col] = scaler.transform(X_test[col].values.reshape(-1, 1))\n",
    "\n",
    "\n",
    "# Check for one hot encoding\n"
   ]
  },
  {
   "cell_type": "code",
   "execution_count": null,
   "metadata": {},
   "outputs": [
    {
     "name": "stdout",
     "output_type": "stream",
     "text": [
      "Accuracy:  0.8309178743961353\n"
     ]
    }
   ],
   "source": [
    "# Learning rate of 0.1 and 1000 iterations\n",
    "model = LogisticRegression(C=0.1, max_iter=1000)\n",
    "model.fit(X_train, y_train)\n",
    "y_pred = model.predict(X_test)\n",
    "print(\"Accuracy: \", accuracy_score(y_test, y_pred))\n"
   ]
  },
  {
   "cell_type": "code",
   "execution_count": 18,
   "metadata": {},
   "outputs": [
    {
     "name": "stdout",
     "output_type": "stream",
     "text": [
      "[[99 18]\n",
      " [17 73]]\n"
     ]
    },
    {
     "data": {
      "image/png": "[encoded data removed]",
      "text/plain": [
       "<Figure size 640x480 with 2 Axes>"
      ]
     },
     "metadata": {},
     "output_type": "display_data"
    },
    {
     "name": "stdout",
     "output_type": "stream",
     "text": [
      "              precision    recall  f1-score   support\n",
      "\n",
      "           0       0.85      0.85      0.85       117\n",
      "           1       0.80      0.81      0.81        90\n",
      "\n",
      "    accuracy                           0.83       207\n",
      "   macro avg       0.83      0.83      0.83       207\n",
      "weighted avg       0.83      0.83      0.83       207\n",
      "\n",
      "F1 weighted:  0.831022114911766\n"
     ]
    }
   ],
   "source": [
    "# Confusion Matrix\n",
    "cm = confusion_matrix(y_test, y_pred)\n",
    "print(cm)\n",
    "sns.heatmap(cm, annot=True)\n",
    "plt.show()\n",
    "# F1 score + loss\n",
    "print(classification_report(y_test, y_pred))\n",
    "f1_weighted = f1_score(y_test, y_pred, average='weighted')\n",
    "print(\"F1 weighted: \", f1_weighted)\n"
   ]
  }
 ],
 "metadata": {
  "kernelspec": {
   "display_name": ".venv",
   "language": "python",
   "name": "python3"
  },
  "language_info": {
   "codemirror_mode": {
    "name": "ipython",
    "version": 3
   },
   "file_extension": ".py",
   "mimetype": "text/x-python",
   "name": "python",
   "nbconvert_exporter": "python",
   "pygments_lexer": "ipython3",
   "version": "3.12.7"
  }
 },
 "nbformat": 4,
 "nbformat_minor": 2
}
